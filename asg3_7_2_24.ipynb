{
  "nbformat": 4,
  "nbformat_minor": 0,
  "metadata": {
    "colab": {
      "provenance": [],
      "authorship_tag": "ABX9TyN3OFJrcUGkAwtzeMd+WHU8",
      "include_colab_link": true
    },
    "kernelspec": {
      "name": "python3",
      "display_name": "Python 3"
    },
    "language_info": {
      "name": "python"
    }
  },
  "cells": [
    {
      "cell_type": "markdown",
      "metadata": {
        "id": "view-in-github",
        "colab_type": "text"
      },
      "source": [
        "<a href=\"https://colab.research.google.com/github/Ishikamehra05/Big-Data-Analytics/blob/main/asg3_7_2_24.ipynb\" target=\"_parent\"><img src=\"https://colab.research.google.com/assets/colab-badge.svg\" alt=\"Open In Colab\"/></a>"
      ]
    },
    {
      "cell_type": "code",
      "execution_count": 10,
      "metadata": {
        "colab": {
          "base_uri": "https://localhost:8080/"
        },
        "id": "5wxQq7i_SUMX",
        "outputId": "ac8cefa8-7d2e-4389-f675-991aa57c1ad9"
      },
      "outputs": [
        {
          "output_type": "stream",
          "name": "stdout",
          "text": [
            "     refund maritalstatus taxableincome cheat\n",
            "s.no                                         \n",
            "1       yes        single          125k    no\n",
            "2        no       married          100k    no\n",
            "3        no        single           70k    no\n",
            "4       yes       married          120k    no\n",
            "5        no      divorced           95k   yes\n",
            "6        no       married           60k    no\n",
            "7       yes      divorced          220k    no\n",
            "8        no        single           85k   yes\n",
            "9        no       married           75k    no\n",
            "10       no        single           90k   yes\n",
            "refund              yes\n",
            "maritalstatus    single\n",
            "taxableincome      125k\n",
            "cheat                no\n",
            "Name: 1, dtype: object\n",
            "refund               yes\n",
            "maritalstatus    married\n",
            "taxableincome       120k\n",
            "cheat                 no\n",
            "Name: 4, dtype: object\n",
            "refund                yes\n",
            "maritalstatus    divorced\n",
            "taxableincome        220k\n",
            "cheat                  no\n",
            "Name: 7, dtype: object\n",
            "refund               no\n",
            "maritalstatus    single\n",
            "taxableincome       85k\n",
            "cheat               yes\n",
            "Name: 8, dtype: object\n"
          ]
        }
      ],
      "source": [
        "import pandas as pd\n",
        "dataset={\n",
        "    \"refund\":[\"yes\",\"no\",\"no\",\"yes\",\"no\",\"no\",\"yes\",\"no\",\"no\",\"no\"],\n",
        "    \"maritalstatus\":[\"single\",\"married\",\"single\",\"married\",\"divorced\",\"married\",\"divorced\",\"single\",\"married\",\"single\"],\n",
        "    \"taxableincome\":[\"125k\",\"100k\",\"70k\",\"120k\",\"95k\",\"60k\",\"220k\",\"85k\",\"75k\",\"90k\"],\n",
        "    \"cheat\":[\"no\",\"no\",\"no\",\"no\",\"yes\",\"no\",\"no\",\"yes\",\"no\",\"yes\"]\n",
        "}\n",
        "da=pd.DataFrame(dataset,index= pd.RangeIndex(start=1,stop=11,name=\"s.no\"))\n",
        "print(da)\n",
        "print(da.loc[1])\n",
        "print(da.loc[4])\n",
        "print(da.loc[7])\n",
        "print(da.loc[8])"
      ]
    },
    {
      "cell_type": "code",
      "source": [
        "import pandas as pd\n",
        "url=\"https://media.githubusercontent.com/media/datablist/sample-csv-files/main/files/customers/customers-100.csv\"\n",
        "df=pd.read_csv(url)\n",
        "print(df)"
      ],
      "metadata": {
        "colab": {
          "base_uri": "https://localhost:8080/"
        },
        "id": "wfmmoiZgTk0y",
        "outputId": "c3da9995-c7a0-4cba-ffc4-0d5dcb54a454"
      },
      "execution_count": 11,
      "outputs": [
        {
          "output_type": "stream",
          "name": "stdout",
          "text": [
            "    Index      Customer Id First Name Last Name  \\\n",
            "0       1  DD37Cf93aecA6Dc     Sheryl    Baxter   \n",
            "1       2  1Ef7b82A4CAAD10    Preston    Lozano   \n",
            "2       3  6F94879bDAfE5a6        Roy     Berry   \n",
            "3       4  5Cef8BFA16c5e3c      Linda     Olsen   \n",
            "4       5  053d585Ab6b3159     Joanna    Bender   \n",
            "..    ...              ...        ...       ...   \n",
            "95     96  cb8E23e48d22Eae       Karl     Greer   \n",
            "96     97  CeD220bdAaCfaDf       Lynn  Atkinson   \n",
            "97     98  28CDbC0dFe4b1Db       Fred    Guerra   \n",
            "98     99  c23d1D9EE8DEB0A     Yvonne    Farmer   \n",
            "99    100  2354a0E336A91A1   Clarence    Haynes   \n",
            "\n",
            "                            Company               City  \\\n",
            "0                   Rasmussen Group       East Leonard   \n",
            "1                       Vega-Gentry  East Jimmychester   \n",
            "2                     Murillo-Perry      Isabelborough   \n",
            "3   Dominguez, Mcmillan and Donovan         Bensonview   \n",
            "4          Martin, Lang and Andrade     West Priscilla   \n",
            "..                              ...                ...   \n",
            "95                        Carey LLC       East Richard   \n",
            "96            Ware, Burns and Oneal       New Bradview   \n",
            "97                    Schmitt-Jones         Ortegaland   \n",
            "98               Fitzgerald-Harrell    Lake Elijahview   \n",
            "99               Le, Nash and Cross          Judymouth   \n",
            "\n",
            "                       Country                 Phone 1  \\\n",
            "0                        Chile            229.077.5154   \n",
            "1                     Djibouti              5153435776   \n",
            "2          Antigua and Barbuda         +1-539-402-0259   \n",
            "3           Dominican Republic  001-808-617-6467x12895   \n",
            "4   Slovakia (Slovak Republic)  001-234-203-0635x76146   \n",
            "..                         ...                     ...   \n",
            "95                      Guyana     (188)169-1674x58692   \n",
            "96                   Sri Lanka         +1-846-706-2218   \n",
            "97             Solomon Islands    +1-753-067-8419x7170   \n",
            "98                       Aruba           (530)311-9786   \n",
            "99                    Honduras           (753)813-6941   \n",
            "\n",
            "                   Phone 2                           Email Subscription Date  \\\n",
            "0         397.884.0519x718        zunigavanessa@smith.info        2020-08-24   \n",
            "1         686-620-1820x944                 vmata@colon.com        2021-04-23   \n",
            "2      (496)978-3969x58947             beckycarr@hogan.com        2020-03-25   \n",
            "3          +1-813-324-8756     stanleyblackwell@benson.org        2020-06-02   \n",
            "4    001-199-446-3860x3486         colinalvarado@miles.net        2021-04-17   \n",
            "..                     ...                             ...               ...   \n",
            "95    001-841-293-3519x614                hhart@jensen.com        2022-01-30   \n",
            "96            605.413.3198               vkemp@ferrell.com        2021-07-10   \n",
            "97   +1-632-666-7507x92121                swagner@kane.org        2021-09-18   \n",
            "98  001-869-452-0943x12424  mccarthystephen@horn-green.biz        2021-08-11   \n",
            "99            783.639.1472          colleen91@faulkner.biz        2020-03-11   \n",
            "\n",
            "                              Website  \n",
            "0          http://www.stephenson.com/  \n",
            "1               http://www.hobbs.com/  \n",
            "2            http://www.lawrence.com/  \n",
            "3          http://www.good-lyons.com/  \n",
            "4         https://goodwin-ingram.com/  \n",
            "..                                ...  \n",
            "95            http://hayes-perez.com/  \n",
            "96         https://novak-allison.com/  \n",
            "97              https://www.ross.com/  \n",
            "98               http://watkins.info/  \n",
            "99  http://www.hatfield-saunders.net/  \n",
            "\n",
            "[100 rows x 12 columns]\n"
          ]
        }
      ]
    },
    {
      "cell_type": "code",
      "source": [],
      "metadata": {
        "id": "d72lzmiFbUM5"
      },
      "execution_count": null,
      "outputs": []
    }
  ]
}