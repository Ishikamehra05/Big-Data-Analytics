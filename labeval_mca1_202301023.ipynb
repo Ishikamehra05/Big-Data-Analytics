{
  "nbformat": 4,
  "nbformat_minor": 0,
  "metadata": {
    "colab": {
      "provenance": [],
      "authorship_tag": "ABX9TyO9mp84TR0IEwHObdyzokLo",
      "include_colab_link": true
    },
    "kernelspec": {
      "name": "python3",
      "display_name": "Python 3"
    },
    "language_info": {
      "name": "python"
    }
  },
  "cells": [
    {
      "cell_type": "markdown",
      "metadata": {
        "id": "view-in-github",
        "colab_type": "text"
      },
      "source": [
        "<a href=\"https://colab.research.google.com/github/Ishikamehra05/Big-Data-Analytics/blob/main/labeval_mca1_202301023.ipynb\" target=\"_parent\"><img src=\"https://colab.research.google.com/assets/colab-badge.svg\" alt=\"Open In Colab\"/></a>"
      ]
    },
    {
      "cell_type": "code",
      "execution_count": 10,
      "metadata": {
        "colab": {
          "base_uri": "https://localhost:8080/"
        },
        "id": "aeSGUbrIuoHb",
        "outputId": "ff0b24b7-b946-445d-bea7-861922099eff"
      },
      "outputs": [
        {
          "output_type": "stream",
          "name": "stdout",
          "text": [
            "Product of the matrices:\n",
            "[[16 19]\n",
            " [26 31]]\n",
            "[[0.5 0.5 0.5 0.5]\n",
            " [0.5 0.5 0.5 0.5]\n",
            " [0.5 0.5 0.5 0.5]\n",
            " [0.5 0.5 0.5 0.5]]\n"
          ]
        }
      ],
      "source": [
        "#multiply the following matrices and also find covariance between matrices using\n",
        "#numpy: i.p=[[1,2],[2,3]]q=[[4,5],[6,7]]\n",
        "import numpy as np\n",
        "\n",
        "p = np.array([[1, 2], [2, 3]])\n",
        "q = np.array([[4, 5], [6, 7]])\n",
        "\n",
        "\n",
        "product = np.dot(p, q)\n",
        "print(\"Product of matrices:\")\n",
        "print(product)\n",
        "\n",
        "\n",
        "\n",
        "covariance=np.cov(product)\n",
        "print(\"covariance b/w matrices:\")\n",
        "print(covariance)\n"
      ]
    },
    {
      "cell_type": "code",
      "source": [],
      "metadata": {
        "id": "tzQbs3KK1LrR"
      },
      "execution_count": null,
      "outputs": []
    }
  ]
}