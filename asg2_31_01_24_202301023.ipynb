{
  "nbformat": 4,
  "nbformat_minor": 0,
  "metadata": {
    "colab": {
      "provenance": [],
      "authorship_tag": "ABX9TyOCmT0EqxjJ/1z+XQI4jiX9",
      "include_colab_link": true
    },
    "kernelspec": {
      "name": "python3",
      "display_name": "Python 3"
    },
    "language_info": {
      "name": "python"
    }
  },
  "cells": [
    {
      "cell_type": "markdown",
      "metadata": {
        "id": "view-in-github",
        "colab_type": "text"
      },
      "source": [
        "<a href=\"https://colab.research.google.com/github/Ishikamehra05/Big-Data-Analytics/blob/main/asg2_31_01_24_202301023.ipynb\" target=\"_parent\"><img src=\"https://colab.research.google.com/assets/colab-badge.svg\" alt=\"Open In Colab\"/></a>"
      ]
    },
    {
      "cell_type": "code",
      "execution_count": null,
      "metadata": {
        "colab": {
          "base_uri": "https://localhost:8080/"
        },
        "id": "_zrTG97hNRu2",
        "outputId": "43216e28-02bb-48a7-efb2-1759471f0dce"
      },
      "outputs": [
        {
          "output_type": "stream",
          "name": "stdout",
          "text": [
            "[5 4 6 3 2 1]\n"
          ]
        }
      ],
      "source": [
        "#ques1\n",
        "import numpy as np\n",
        "arr=np.array([1, 2, 3, 6, 4, 5])\n",
        "res=np.flip(arr)\n",
        "print(res)"
      ]
    },
    {
      "cell_type": "code",
      "source": [
        "#ques2\n",
        "import numpy as np\n",
        "arr1=np.array([[1], [3, 4]])\n",
        "arr2=np.array([[1, 2], [3, 4]])\n",
        "compare= arr1 == arr2\n",
        "arr=compare.all()\n",
        "print(arr)"
      ],
      "metadata": {
        "colab": {
          "base_uri": "https://localhost:8080/"
        },
        "id": "xBUxA08TQVUN",
        "outputId": "59c26222-3469-45c2-dfe7-b64122f09ac7"
      },
      "execution_count": null,
      "outputs": [
        {
          "output_type": "stream",
          "name": "stdout",
          "text": [
            "False\n"
          ]
        },
        {
          "output_type": "stream",
          "name": "stderr",
          "text": [
            "<ipython-input-5-7dfaef8e2444>:3: VisibleDeprecationWarning: Creating an ndarray from ragged nested sequences (which is a list-or-tuple of lists-or-tuples-or ndarrays with different lengths or shapes) is deprecated. If you meant to do this, you must specify 'dtype=object' when creating the ndarray.\n",
            "  arr1=np.array([[1], [3, 4]])\n"
          ]
        }
      ]
    },
    {
      "cell_type": "code",
      "source": [
        "#ques3\n",
        "import numpy as np\n",
        "x = np.array([1,2,3,4,5,1,2,1,1,1])\n",
        "y = np.array([1, 1, 1, 2, 3, 4, 2, 4, 3, 3,4,4,4])\n",
        "print(\"Original array:\")\n",
        "print(x)\n",
        "print(y)\n",
        "print(\"Most frequent value in the above array:\")\n",
        "print(np.bincount(x).argmax())\n",
        "print(\"Most frequent value in the above array:\")\n",
        "print(np.bincount(y).argmax())"
      ],
      "metadata": {
        "colab": {
          "base_uri": "https://localhost:8080/"
        },
        "id": "7filSCYKXwWZ",
        "outputId": "0991c9c4-284e-4ba1-8833-9dca67f97950"
      },
      "execution_count": null,
      "outputs": [
        {
          "output_type": "stream",
          "name": "stdout",
          "text": [
            "Original array:\n",
            "[1 2 3 4 5 1 2 1 1 1]\n",
            "[1 1 1 2 3 4 2 4 3 3 4 4 4]\n",
            "Most frequent value in the above array:\n",
            "1\n",
            "Most frequent value in the above array:\n",
            "4\n"
          ]
        }
      ]
    },
    {
      "cell_type": "code",
      "source": [
        "#ques4\n",
        "import numpy as np\n",
        "\n",
        "gfg = np.matrix('[4, 1, 9; 12, 3, 1; 4, 5, 6]')\n",
        "\n",
        "sum_all_elements = gfg.sum()\n",
        "\n",
        "sum_row_wise = gfg.sum(axis=1)\n",
        "\n",
        "sum_column_wise = gfg.sum(axis=0)\n",
        "\n",
        "print(\"i. Sum of all elements:\", sum_all_elements)\n",
        "print(\"ii. Sum of all elements row-wise:\", sum_row_wise)\n",
        "print(\"iii. Sum of all elements column-wise:\", sum_column_wise)"
      ],
      "metadata": {
        "colab": {
          "base_uri": "https://localhost:8080/"
        },
        "id": "qW8au_9eX7Pi",
        "outputId": "02b3a1a8-3a35-4c26-d10f-80494a409447"
      },
      "execution_count": null,
      "outputs": [
        {
          "output_type": "stream",
          "name": "stdout",
          "text": [
            "i. Sum of all elements: 45\n",
            "ii. Sum of all elements row-wise: [[14]\n",
            " [16]\n",
            " [15]]\n",
            "iii. Sum of all elements column-wise: [[20  9 16]]\n"
          ]
        }
      ]
    }
  ]
}